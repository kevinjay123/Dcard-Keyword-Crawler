{
 "cells": [
  {
   "cell_type": "code",
   "execution_count": 86,
   "metadata": {},
   "outputs": [],
   "source": [
    "import pandas as pd\n",
    "import requests\n",
    "from fake_useragent import UserAgent\n",
    "import time\n",
    "from requests.models import PreparedRequest\n",
    "\n",
    "def fetchData(lastId: str, keyword: str):\n",
    "    url = 'https://www.dcard.tw/service/api/v2/search/posts'\n",
    "    params = {'query': keyword, \"limit\": 50}\n",
    "\n",
    "    if lastId:\n",
    "        time.sleep(3)\n",
    "        params['before'] = lastId\n",
    "\n",
    "    req = PreparedRequest()\n",
    "    req.prepare_url(url, params)\n",
    "\n",
    "    ua = UserAgent()\n",
    "\n",
    "    resq = requests.get(req.url, headers = {\n",
    "            \"user-agent\": ua.random\n",
    "        })\n",
    "    rejs = resq.json()\n",
    "\n",
    "    return GenerateData(rejs)"
   ]
  },
  {
   "cell_type": "code",
   "execution_count": null,
   "metadata": {},
   "outputs": [],
   "source": [
    "result = []\n",
    "\n",
    "keyword = \"chifure\"\n",
    "lastId = \"\"\n",
    "\n",
    "while not result:\n",
    "    (lastId, result) = fetchData(lastId, keyword)\n",
    "\n",
    "df = pd.DataFrame()\n",
    "df = pd.concat(result, ignore_index=True)\n",
    "\n",
    "writer = pd.ExcelWriter(f'{keyword}.xlsx', engine='xlsxwriter')\n",
    "df.to_excel(writer, sheet_name=keyword)\n",
    "writer.save()\n",
    "\n",
    "df"
   ]
  }
 ],
 "metadata": {
  "interpreter": {
   "hash": "b0fa6594d8f4cbf19f97940f81e996739fb7646882a419484c72d19e05852a7e"
  },
  "kernelspec": {
   "display_name": "Python 3.9.13 64-bit",
   "language": "python",
   "name": "python3"
  },
  "language_info": {
   "codemirror_mode": {
    "name": "ipython",
    "version": 3
   },
   "file_extension": ".py",
   "mimetype": "text/x-python",
   "name": "python",
   "nbconvert_exporter": "python",
   "pygments_lexer": "ipython3",
   "version": "3.9.13"
  },
  "orig_nbformat": 4
 },
 "nbformat": 4,
 "nbformat_minor": 2
}
